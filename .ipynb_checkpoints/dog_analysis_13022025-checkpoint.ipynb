{
 "cells": [
  {
   "cell_type": "code",
   "execution_count": 3,
   "id": "43ffcff2-f03a-420a-bf14-52df512bb7d8",
   "metadata": {},
   "outputs": [],
   "source": [
    " import pandas as pd"
   ]
  },
  {
   "cell_type": "code",
   "execution_count": 4,
   "id": "ddda20f7-ccea-4e53-936d-de501e8bc8f2",
   "metadata": {},
   "outputs": [
    {
     "name": "stderr",
     "output_type": "stream",
     "text": [
      "/var/folders/fd/2_6_clt56hg9lxglbp6447680000gn/T/ipykernel_30681/1290962057.py:1: DtypeWarning: Columns (2) have mixed types. Specify dtype option on import or set low_memory=False.\n",
      "  df = pd.read_csv(\"NYC_Dog_Licensing_Dataset_20250210.csv\")\n"
     ]
    },
    {
     "ename": "NameError",
     "evalue": "name 'NYC_Dog_Licensing_Dataset_20250210' is not defined",
     "output_type": "error",
     "traceback": [
      "\u001b[0;31m---------------------------------------------------------------------------\u001b[0m",
      "\u001b[0;31mNameError\u001b[0m                                 Traceback (most recent call last)",
      "Cell \u001b[0;32mIn[4], line 5\u001b[0m\n\u001b[1;32m      1\u001b[0m df \u001b[38;5;241m=\u001b[39m pd\u001b[38;5;241m.\u001b[39mread_csv(\u001b[38;5;124m\"\u001b[39m\u001b[38;5;124mNYC_Dog_Licensing_Dataset_20250210.csv\u001b[39m\u001b[38;5;124m\"\u001b[39m)\n\u001b[1;32m      2\u001b[0m df\u001b[38;5;241m.\u001b[39mhead()\n\u001b[0;32m----> 5\u001b[0m \u001b[43mNYC_Dog_Licensing_Dataset_20250210\u001b[49m\u001b[38;5;241m.\u001b[39mcsv\n",
      "\u001b[0;31mNameError\u001b[0m: name 'NYC_Dog_Licensing_Dataset_20250210' is not defined"
     ]
    }
   ],
   "source": [
    "\n",
    "\n",
    "   df = pd.read_csv(\"NYC_Dog_Licensing_Dataset_20250210.csv\")\n",
    "   df.head()\n",
    "\n",
    "\n",
    "NYC_Dog_Licensing_Dataset_20250210.csv"
   ]
  },
  {
   "cell_type": "code",
   "execution_count": null,
   "id": "e813dfff-1e3c-4ee4-a044-0d383b2d0093",
   "metadata": {},
   "outputs": [],
   "source": []
  }
 ],
 "metadata": {
  "kernelspec": {
   "display_name": "Python 3 (ipykernel)",
   "language": "python",
   "name": "python3"
  },
  "language_info": {
   "codemirror_mode": {
    "name": "ipython",
    "version": 3
   },
   "file_extension": ".py",
   "mimetype": "text/x-python",
   "name": "python",
   "nbconvert_exporter": "python",
   "pygments_lexer": "ipython3",
   "version": "3.12.7"
  }
 },
 "nbformat": 4,
 "nbformat_minor": 5
}
